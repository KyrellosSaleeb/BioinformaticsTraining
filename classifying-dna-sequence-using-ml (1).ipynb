{
 "cells": [
  {
   "cell_type": "code",
   "execution_count": 62,
   "id": "solved-classroom",
   "metadata": {
    "execution": {
     "iopub.execute_input": "2021-06-21T15:21:39.741998Z",
     "iopub.status.busy": "2021-06-21T15:21:39.741110Z",
     "iopub.status.idle": "2021-06-21T15:21:40.724482Z",
     "shell.execute_reply": "2021-06-21T15:21:40.723933Z",
     "shell.execute_reply.started": "2021-06-21T15:14:14.482743Z"
    },
    "papermill": {
     "duration": 1.039096,
     "end_time": "2021-06-21T15:21:40.724621",
     "exception": false,
     "start_time": "2021-06-21T15:21:39.685525",
     "status": "completed"
    },
    "tags": []
   },
   "outputs": [],
   "source": [
    "import numpy as np\n",
    "import pandas as pd\n",
    "import seaborn as sns\n",
    "import matplotlib.pyplot as plt\n",
    "%matplotlib inline  "
   ]
  },
  {
   "cell_type": "markdown",
   "id": "waiting-exemption",
   "metadata": {
    "papermill": {
     "duration": 0.041254,
     "end_time": "2021-06-21T15:21:40.807797",
     "exception": false,
     "start_time": "2021-06-21T15:21:40.766543",
     "status": "completed"
    },
    "tags": []
   },
   "source": [
    "### Open the data for human and see what we have."
   ]
  },
  {
   "cell_type": "code",
   "execution_count": 63,
   "id": "compliant-aside",
   "metadata": {
    "execution": {
     "iopub.execute_input": "2021-06-21T15:21:40.895108Z",
     "iopub.status.busy": "2021-06-21T15:21:40.894373Z",
     "iopub.status.idle": "2021-06-21T15:21:41.063763Z",
     "shell.execute_reply": "2021-06-21T15:21:41.063231Z",
     "shell.execute_reply.started": "2021-06-21T15:14:14.534713Z"
    },
    "papermill": {
     "duration": 0.214941,
     "end_time": "2021-06-21T15:21:41.063902",
     "exception": false,
     "start_time": "2021-06-21T15:21:40.848961",
     "status": "completed"
    },
    "tags": []
   },
   "outputs": [
    {
     "data": {
      "text/plain": [
       "(22738, 2)"
      ]
     },
     "execution_count": 63,
     "metadata": {},
     "output_type": "execute_result"
    }
   ],
   "source": [
    "human = pd.read_table('dna.txt')\n",
    "human.shape"
   ]
  },
  {
   "cell_type": "markdown",
   "id": "center-concentrate",
   "metadata": {
    "papermill": {
     "duration": 0.041794,
     "end_time": "2021-06-21T15:21:41.147377",
     "exception": false,
     "start_time": "2021-06-21T15:21:41.105583",
     "status": "completed"
    },
    "tags": []
   },
   "source": [
    "### We have some data for human DNA sequence coding regions and a class label. We also have data for Chimpanzee and a more divergent species, the dog. Let's get that."
   ]
  },
  {
   "cell_type": "code",
   "execution_count": 64,
   "id": "colonial-emission",
   "metadata": {
    "execution": {
     "iopub.execute_input": "2021-06-21T15:21:41.468581Z",
     "iopub.status.busy": "2021-06-21T15:21:41.467926Z",
     "iopub.status.idle": "2021-06-21T15:21:41.470445Z",
     "shell.execute_reply": "2021-06-21T15:21:41.470961Z",
     "shell.execute_reply.started": "2021-06-21T15:14:14.861885Z"
    },
    "papermill": {
     "duration": 0.051708,
     "end_time": "2021-06-21T15:21:41.471119",
     "exception": false,
     "start_time": "2021-06-21T15:21:41.419411",
     "status": "completed"
    },
    "tags": []
   },
   "outputs": [
    {
     "data": {
      "text/plain": [
       "(22738, 2)"
      ]
     },
     "execution_count": 64,
     "metadata": {},
     "output_type": "execute_result"
    }
   ],
   "source": [
    "human.shape\n"
   ]
  },
  {
   "cell_type": "code",
   "execution_count": 65,
   "id": "friendly-weekly",
   "metadata": {
    "execution": {
     "iopub.execute_input": "2021-06-21T15:21:41.866769Z",
     "iopub.status.busy": "2021-06-21T15:21:41.866220Z",
     "iopub.status.idle": "2021-06-21T15:21:41.871751Z",
     "shell.execute_reply": "2021-06-21T15:21:41.872219Z",
     "shell.execute_reply.started": "2021-06-21T15:14:14.897687Z"
    },
    "papermill": {
     "duration": 0.039993,
     "end_time": "2021-06-21T15:21:41.872370",
     "exception": false,
     "start_time": "2021-06-21T15:21:41.832377",
     "status": "completed"
    },
    "tags": []
   },
   "outputs": [],
   "source": [
    "# function to convert sequence strings into k-mer words, default size = 6 (hexamer words)\n",
    "def getKmers(sequence, size=6):\n",
    "    return [sequence[x:x+size].lower() for x in range(len(sequence) - size + 1)]"
   ]
  },
  {
   "cell_type": "markdown",
   "id": "geographic-biotechnology",
   "metadata": {
    "papermill": {
     "duration": 0.030575,
     "end_time": "2021-06-21T15:21:41.934799",
     "exception": false,
     "start_time": "2021-06-21T15:21:41.904224",
     "status": "completed"
    },
    "tags": []
   },
   "source": [
    "### Now we can convert our training data sequences into short overlapping k-mers of legth 6. Lets do that for each species of data we have using our getKmers function."
   ]
  },
  {
   "cell_type": "code",
   "execution_count": 66,
   "id": "engaged-launch",
   "metadata": {
    "execution": {
     "iopub.execute_input": "2021-06-21T15:21:41.999147Z",
     "iopub.status.busy": "2021-06-21T15:21:41.998611Z",
     "iopub.status.idle": "2021-06-21T15:21:46.770264Z",
     "shell.execute_reply": "2021-06-21T15:21:46.768759Z",
     "shell.execute_reply.started": "2021-06-21T15:14:14.908890Z"
    },
    "papermill": {
     "duration": 4.806027,
     "end_time": "2021-06-21T15:21:46.770386",
     "exception": false,
     "start_time": "2021-06-21T15:21:41.964359",
     "status": "completed"
    },
    "tags": []
   },
   "outputs": [
    {
     "data": {
      "text/html": [
       "<div>\n",
       "<style scoped>\n",
       "    .dataframe tbody tr th:only-of-type {\n",
       "        vertical-align: middle;\n",
       "    }\n",
       "\n",
       "    .dataframe tbody tr th {\n",
       "        vertical-align: top;\n",
       "    }\n",
       "\n",
       "    .dataframe thead th {\n",
       "        text-align: right;\n",
       "    }\n",
       "</style>\n",
       "<table border=\"1\" class=\"dataframe\">\n",
       "  <thead>\n",
       "    <tr style=\"text-align: right;\">\n",
       "      <th></th>\n",
       "      <th>sequence</th>\n",
       "      <th>1</th>\n",
       "      <th>words</th>\n",
       "    </tr>\n",
       "  </thead>\n",
       "  <tbody>\n",
       "    <tr>\n",
       "      <th>0</th>\n",
       "      <td>TGCGAGGGATTCTTCTATACCGCCGGCACTTATTTTTTTGCCCACG...</td>\n",
       "      <td>1</td>\n",
       "      <td>[tgcgag, gcgagg, cgaggg, gaggga, agggat, gggat...</td>\n",
       "    </tr>\n",
       "    <tr>\n",
       "      <th>1</th>\n",
       "      <td>CGCGGCGCTCATGTGTTACGATTCCTTCCAGGTTATCGACCGACAT...</td>\n",
       "      <td>1</td>\n",
       "      <td>[cgcggc, gcggcg, cggcgc, ggcgct, gcgctc, cgctc...</td>\n",
       "    </tr>\n",
       "    <tr>\n",
       "      <th>2</th>\n",
       "      <td>TTGCGCCAGTTGCGGCAGGCTGTCAGGGAACAGGGGGTACGGGATG...</td>\n",
       "      <td>1</td>\n",
       "      <td>[ttgcgc, tgcgcc, gcgcca, cgccag, gccagt, ccagt...</td>\n",
       "    </tr>\n",
       "    <tr>\n",
       "      <th>3</th>\n",
       "      <td>AACTCGGTCATAGGGGGATGTCGGCCGACAGGCTGGAGCTACTGGG...</td>\n",
       "      <td>1</td>\n",
       "      <td>[aactcg, actcgg, ctcggt, tcggtc, cggtca, ggtca...</td>\n",
       "    </tr>\n",
       "    <tr>\n",
       "      <th>4</th>\n",
       "      <td>CAGAAGCCCTGAATCGGTCGTTAGGCTGGCAGTTGCTAAAGAGCCG...</td>\n",
       "      <td>1</td>\n",
       "      <td>[cagaag, agaagc, gaagcc, aagccc, agccct, gccct...</td>\n",
       "    </tr>\n",
       "  </tbody>\n",
       "</table>\n",
       "</div>"
      ],
      "text/plain": [
       "                                            sequence  1  \\\n",
       "0  TGCGAGGGATTCTTCTATACCGCCGGCACTTATTTTTTTGCCCACG...  1   \n",
       "1  CGCGGCGCTCATGTGTTACGATTCCTTCCAGGTTATCGACCGACAT...  1   \n",
       "2  TTGCGCCAGTTGCGGCAGGCTGTCAGGGAACAGGGGGTACGGGATG...  1   \n",
       "3  AACTCGGTCATAGGGGGATGTCGGCCGACAGGCTGGAGCTACTGGG...  1   \n",
       "4  CAGAAGCCCTGAATCGGTCGTTAGGCTGGCAGTTGCTAAAGAGCCG...  1   \n",
       "\n",
       "                                               words  \n",
       "0  [tgcgag, gcgagg, cgaggg, gaggga, agggat, gggat...  \n",
       "1  [cgcggc, gcggcg, cggcgc, ggcgct, gcgctc, cgctc...  \n",
       "2  [ttgcgc, tgcgcc, gcgcca, cgccag, gccagt, ccagt...  \n",
       "3  [aactcg, actcgg, ctcggt, tcggtc, cggtca, ggtca...  \n",
       "4  [cagaag, agaagc, gaagcc, aagccc, agccct, gccct...  "
      ]
     },
     "execution_count": 66,
     "metadata": {},
     "output_type": "execute_result"
    }
   ],
   "source": [
    "human[\"words\"]=human.apply(lambda x: getKmers(x[\"sequence\"]),axis=1)\n",
    "human.head()\n",
    "#chimp['words'] = chimp.apply(lambda x: getKmers(x['sequence']), axis=1)\n",
    "#chimp = chimp.drop('sequence', axis=1)\n",
    "#dog['words'] = dog.apply(lambda x: getKmers(x['sequence']), axis=1)\n",
    "#dog = dog.drop('sequence', axis=1)"
   ]
  },
  {
   "cell_type": "code",
   "execution_count": 67,
   "id": "medieval-competition",
   "metadata": {
    "execution": {
     "iopub.execute_input": "2021-06-21T15:21:46.846293Z",
     "iopub.status.busy": "2021-06-21T15:21:46.845713Z",
     "iopub.status.idle": "2021-06-21T15:21:46.850316Z",
     "shell.execute_reply": "2021-06-21T15:21:46.849839Z",
     "shell.execute_reply.started": "2021-06-21T15:14:18.455060Z"
    },
    "papermill": {
     "duration": 0.049685,
     "end_time": "2021-06-21T15:21:46.850430",
     "exception": false,
     "start_time": "2021-06-21T15:21:46.800745",
     "status": "completed"
    },
    "tags": []
   },
   "outputs": [
    {
     "data": {
      "text/html": [
       "<div>\n",
       "<style scoped>\n",
       "    .dataframe tbody tr th:only-of-type {\n",
       "        vertical-align: middle;\n",
       "    }\n",
       "\n",
       "    .dataframe tbody tr th {\n",
       "        vertical-align: top;\n",
       "    }\n",
       "\n",
       "    .dataframe thead th {\n",
       "        text-align: right;\n",
       "    }\n",
       "</style>\n",
       "<table border=\"1\" class=\"dataframe\">\n",
       "  <thead>\n",
       "    <tr style=\"text-align: right;\">\n",
       "      <th></th>\n",
       "      <th>1</th>\n",
       "      <th>words</th>\n",
       "    </tr>\n",
       "  </thead>\n",
       "  <tbody>\n",
       "    <tr>\n",
       "      <th>0</th>\n",
       "      <td>1</td>\n",
       "      <td>[tgcgag, gcgagg, cgaggg, gaggga, agggat, gggat...</td>\n",
       "    </tr>\n",
       "    <tr>\n",
       "      <th>1</th>\n",
       "      <td>1</td>\n",
       "      <td>[cgcggc, gcggcg, cggcgc, ggcgct, gcgctc, cgctc...</td>\n",
       "    </tr>\n",
       "    <tr>\n",
       "      <th>2</th>\n",
       "      <td>1</td>\n",
       "      <td>[ttgcgc, tgcgcc, gcgcca, cgccag, gccagt, ccagt...</td>\n",
       "    </tr>\n",
       "    <tr>\n",
       "      <th>3</th>\n",
       "      <td>1</td>\n",
       "      <td>[aactcg, actcgg, ctcggt, tcggtc, cggtca, ggtca...</td>\n",
       "    </tr>\n",
       "    <tr>\n",
       "      <th>4</th>\n",
       "      <td>1</td>\n",
       "      <td>[cagaag, agaagc, gaagcc, aagccc, agccct, gccct...</td>\n",
       "    </tr>\n",
       "  </tbody>\n",
       "</table>\n",
       "</div>"
      ],
      "text/plain": [
       "   1                                              words\n",
       "0  1  [tgcgag, gcgagg, cgaggg, gaggga, agggat, gggat...\n",
       "1  1  [cgcggc, gcggcg, cggcgc, ggcgct, gcgctc, cgctc...\n",
       "2  1  [ttgcgc, tgcgcc, gcgcca, cgccag, gccagt, ccagt...\n",
       "3  1  [aactcg, actcgg, ctcggt, tcggtc, cggtca, ggtca...\n",
       "4  1  [cagaag, agaagc, gaagcc, aagccc, agccct, gccct..."
      ]
     },
     "execution_count": 67,
     "metadata": {},
     "output_type": "execute_result"
    }
   ],
   "source": [
    "human=human.drop(\"sequence\",axis=1)\n",
    "#human[\"words\"][0]\n",
    "human.head()\n"
   ]
  },
  {
   "cell_type": "code",
   "execution_count": 68,
   "id": "pregnant-demand",
   "metadata": {
    "execution": {
     "iopub.execute_input": "2021-06-21T15:21:46.915208Z",
     "iopub.status.busy": "2021-06-21T15:21:46.914693Z",
     "iopub.status.idle": "2021-06-21T15:21:46.918124Z",
     "shell.execute_reply": "2021-06-21T15:21:46.917544Z",
     "shell.execute_reply.started": "2021-06-21T15:14:18.478234Z"
    },
    "papermill": {
     "duration": 0.037652,
     "end_time": "2021-06-21T15:21:46.918244",
     "exception": false,
     "start_time": "2021-06-21T15:21:46.880592",
     "status": "completed"
    },
    "tags": []
   },
   "outputs": [],
   "source": [
    "#human[\"words\"][2]\n"
   ]
  },
  {
   "cell_type": "code",
   "execution_count": 69,
   "id": "deluxe-tunisia",
   "metadata": {
    "execution": {
     "iopub.execute_input": "2021-06-21T15:21:47.043629Z",
     "iopub.status.busy": "2021-06-21T15:21:47.043128Z",
     "iopub.status.idle": "2021-06-21T15:21:47.199829Z",
     "shell.execute_reply": "2021-06-21T15:21:47.200201Z",
     "shell.execute_reply.started": "2021-06-21T15:14:18.483335Z"
    },
    "papermill": {
     "duration": 0.191383,
     "end_time": "2021-06-21T15:21:47.200351",
     "exception": false,
     "start_time": "2021-06-21T15:21:47.008968",
     "status": "completed"
    },
    "tags": []
   },
   "outputs": [],
   "source": [
    "human_texts=list(human[\"words\"])\n",
    "for item in range(len(human_texts)):\n",
    "    human_texts[item] = ' '.join(human_texts[item])\n",
    "y_h = human.iloc[:, 0].values  "
   ]
  },
  {
   "cell_type": "code",
   "execution_count": 70,
   "id": "determined-adelaide",
   "metadata": {
    "execution": {
     "iopub.execute_input": "2021-06-21T15:21:47.265930Z",
     "iopub.status.busy": "2021-06-21T15:21:47.265411Z",
     "iopub.status.idle": "2021-06-21T15:21:47.270447Z",
     "shell.execute_reply": "2021-06-21T15:21:47.270918Z",
     "shell.execute_reply.started": "2021-06-21T15:14:18.676381Z"
    },
    "papermill": {
     "duration": 0.039857,
     "end_time": "2021-06-21T15:21:47.271072",
     "exception": false,
     "start_time": "2021-06-21T15:21:47.231215",
     "status": "completed"
    },
    "tags": []
   },
   "outputs": [
    {
     "data": {
      "text/plain": [
       "'ttgcgc tgcgcc gcgcca cgccag gccagt ccagtt cagttg agttgc gttgcg ttgcgg tgcggc gcggca cggcag ggcagg gcaggc caggct aggctg ggctgt gctgtc ctgtca tgtcag gtcagg tcaggg caggga agggaa gggaac ggaaca gaacag aacagg acaggg cagggg aggggg gggggt ggggta gggtac ggtacg gtacgg tacggg acggga cgggat gggatg ggatga gatgat atgata tgatag gatagt atagtt tagtta agttaa gttaaa ttaaat taaatt aaattt aatttc atttca tttcat ttcatg tcatgc catgcc atgcca tgccag gccagg ccaggg cagggg aggggg ggggga ggggaa gggaaa ggaaag gaaagg aaaggc aaggcg aggcgg ggcggt gcggtg cggtgg ggtgga gtggaa tggaag ggaagt gaagtg aagtgg agtggc gtggcc tggccc ggcccg gcccgg cccggt ccggtc cggtcg ggtcga gtcgat tcgatt cgatta gattac attacc ttacct tacctg acctgc cctgct ctgctg tgctgg gctggg ctgggg tggggc ggggcg gggcgg ggcggg gcggga cgggag gggagc ggagcg gagcgt agcgta gcgtaa cgtaac gtaacc taaccg aaccgc accgcg ccgcga cgcgaa gcgaag cgaagg gaaggc aaggcg aggcgc ggcgca gcgcaa cgcaac gcaacg caacgg aacggt acggtg cggtgc ggtgct gtgctc tgctcc gctccg ctccgg tccggg ccgggg cggggt ggggta gggtaa'"
      ]
     },
     "execution_count": 70,
     "metadata": {},
     "output_type": "execute_result"
    }
   ],
   "source": [
    "human_texts[2]"
   ]
  },
  {
   "cell_type": "code",
   "execution_count": 71,
   "id": "strategic-junior",
   "metadata": {
    "execution": {
     "iopub.execute_input": "2021-06-21T15:21:47.338389Z",
     "iopub.status.busy": "2021-06-21T15:21:47.337789Z",
     "iopub.status.idle": "2021-06-21T15:21:47.342984Z",
     "shell.execute_reply": "2021-06-21T15:21:47.343410Z",
     "shell.execute_reply.started": "2021-06-21T15:14:18.684417Z"
    },
    "papermill": {
     "duration": 0.041046,
     "end_time": "2021-06-21T15:21:47.343573",
     "exception": false,
     "start_time": "2021-06-21T15:21:47.302527",
     "status": "completed"
    },
    "tags": []
   },
   "outputs": [
    {
     "data": {
      "text/plain": [
       "array([1, 1, 1, ..., 0, 0, 0], dtype=int64)"
      ]
     },
     "execution_count": 71,
     "metadata": {},
     "output_type": "execute_result"
    }
   ],
   "source": [
    "y_h"
   ]
  },
  {
   "cell_type": "markdown",
   "id": "middle-stick",
   "metadata": {
    "papermill": {
     "duration": 0.030347,
     "end_time": "2021-06-21T15:21:47.616587",
     "exception": false,
     "start_time": "2021-06-21T15:21:47.586240",
     "status": "completed"
    },
    "tags": []
   },
   "source": [
    "## Now let's review how to use sklearn's \"Natural Language\" Processing tools to convert our k-mer words into uniform length numerical vectors that represent counts for every k-mer in the vocabulary."
   ]
  },
  {
   "cell_type": "code",
   "execution_count": 72,
   "id": "fancy-miracle",
   "metadata": {
    "execution": {
     "iopub.execute_input": "2021-06-21T15:21:47.683302Z",
     "iopub.status.busy": "2021-06-21T15:21:47.682603Z",
     "iopub.status.idle": "2021-06-21T15:22:01.770972Z",
     "shell.execute_reply": "2021-06-21T15:22:01.770382Z"
    },
    "papermill": {
     "duration": 14.124133,
     "end_time": "2021-06-21T15:22:01.771087",
     "exception": false,
     "start_time": "2021-06-21T15:21:47.646954",
     "status": "completed"
    },
    "tags": []
   },
   "outputs": [],
   "source": [
    "# Creating the Bag of Words model using CountVectorizer()\n",
    "# This is equivalent to k-mer counting\n",
    "# The n-gram size of 4 was previously determined by testing\n",
    "from sklearn.feature_extraction.text import CountVectorizer\n",
    "cv = CountVectorizer(ngram_range=(4,4))\n",
    "X = cv.fit_transform(human_texts)\n",
    "#X_chimp = cv.transform(chimp_texts)\n",
    "#X_dog = cv.transform(dog_texts)"
   ]
  },
  {
   "cell_type": "markdown",
   "id": "native-dining",
   "metadata": {
    "papermill": {
     "duration": 0.03071,
     "end_time": "2021-06-21T15:22:01.837975",
     "exception": false,
     "start_time": "2021-06-21T15:22:01.807265",
     "status": "completed"
    },
    "tags": []
   },
   "source": [
    "## Let's see what we have... for human we have 4380 genes converted into uniform length feature vectors of 4-gram k-mer (length 6) counts."
   ]
  },
  {
   "cell_type": "code",
   "execution_count": 74,
   "id": "million-solomon",
   "metadata": {
    "execution": {
     "iopub.execute_input": "2021-06-21T15:22:01.905953Z",
     "iopub.status.busy": "2021-06-21T15:22:01.905160Z",
     "iopub.status.idle": "2021-06-21T15:22:01.909265Z",
     "shell.execute_reply": "2021-06-21T15:22:01.908643Z",
     "shell.execute_reply.started": "2021-06-21T15:16:51.683022Z"
    },
    "papermill": {
     "duration": 0.040373,
     "end_time": "2021-06-21T15:22:01.909399",
     "exception": false,
     "start_time": "2021-06-21T15:22:01.869026",
     "status": "completed"
    },
    "tags": []
   },
   "outputs": [
    {
     "name": "stdout",
     "output_type": "stream",
     "text": [
      "(22738, 260449)\n"
     ]
    }
   ],
   "source": [
    "print(X.shape)\n"
   ]
  },
  {
   "cell_type": "code",
   "execution_count": 75,
   "id": "imposed-andrew",
   "metadata": {
    "execution": {
     "iopub.execute_input": "2021-06-21T15:22:02.836970Z",
     "iopub.status.busy": "2021-06-21T15:22:02.836281Z",
     "iopub.status.idle": "2021-06-21T15:22:03.190496Z",
     "shell.execute_reply": "2021-06-21T15:22:03.189716Z",
     "shell.execute_reply.started": "2021-06-21T15:14:30.371537Z"
    },
    "papermill": {
     "duration": 0.40913,
     "end_time": "2021-06-21T15:22:03.190654",
     "exception": false,
     "start_time": "2021-06-21T15:22:02.781524",
     "status": "completed"
    },
    "tags": []
   },
   "outputs": [],
   "source": [
    "from sklearn.model_selection import train_test_split\n",
    "x_train,x_test,y_train,y_test=train_test_split(X,y_h,test_size=0.2,random_state=42)"
   ]
  },
  {
   "cell_type": "code",
   "execution_count": 76,
   "id": "typical-landing",
   "metadata": {
    "execution": {
     "iopub.execute_input": "2021-06-21T15:22:03.296990Z",
     "iopub.status.busy": "2021-06-21T15:22:03.296178Z",
     "iopub.status.idle": "2021-06-21T15:22:03.301651Z",
     "shell.execute_reply": "2021-06-21T15:22:03.301104Z",
     "shell.execute_reply.started": "2021-06-21T15:14:30.457362Z"
    },
    "papermill": {
     "duration": 0.060348,
     "end_time": "2021-06-21T15:22:03.301810",
     "exception": false,
     "start_time": "2021-06-21T15:22:03.241462",
     "status": "completed"
    },
    "tags": []
   },
   "outputs": [
    {
     "name": "stdout",
     "output_type": "stream",
     "text": [
      "(18190, 260449)\n",
      "(4548, 260449)\n"
     ]
    }
   ],
   "source": [
    "print(x_train.shape)\n",
    "print(x_test.shape)"
   ]
  },
  {
   "cell_type": "code",
   "execution_count": 77,
   "id": "remarkable-holiday",
   "metadata": {
    "execution": {
     "iopub.execute_input": "2021-06-21T15:22:03.406179Z",
     "iopub.status.busy": "2021-06-21T15:22:03.405349Z",
     "iopub.status.idle": "2021-06-21T15:22:03.680991Z",
     "shell.execute_reply": "2021-06-21T15:22:03.680424Z",
     "shell.execute_reply.started": "2021-06-21T15:14:30.463865Z"
    },
    "papermill": {
     "duration": 0.328563,
     "end_time": "2021-06-21T15:22:03.681110",
     "exception": false,
     "start_time": "2021-06-21T15:22:03.352547",
     "status": "completed"
    },
    "tags": []
   },
   "outputs": [
    {
     "data": {
      "text/plain": [
       "MultinomialNB(alpha=0.1)"
      ]
     },
     "execution_count": 77,
     "metadata": {},
     "output_type": "execute_result"
    }
   ],
   "source": [
    "### Multinomial Naive Bayes Classifier ###\n",
    "# The alpha parameter was determined by grid search previously\n",
    "from sklearn.naive_bayes import MultinomialNB\n",
    "classifier = MultinomialNB(alpha=0.1)\n",
    "classifier.fit(x_train, y_train)"
   ]
  },
  {
   "cell_type": "code",
   "execution_count": 78,
   "id": "macro-botswana",
   "metadata": {
    "execution": {
     "iopub.execute_input": "2021-06-21T15:22:03.823546Z",
     "iopub.status.busy": "2021-06-21T15:22:03.822872Z",
     "iopub.status.idle": "2021-06-21T15:22:03.861909Z",
     "shell.execute_reply": "2021-06-21T15:22:03.861451Z",
     "shell.execute_reply.started": "2021-06-21T15:14:30.672318Z"
    },
    "papermill": {
     "duration": 0.077648,
     "end_time": "2021-06-21T15:22:03.862020",
     "exception": false,
     "start_time": "2021-06-21T15:22:03.784372",
     "status": "completed"
    },
    "tags": []
   },
   "outputs": [],
   "source": [
    "y_pred = classifier.predict(x_test)"
   ]
  },
  {
   "cell_type": "code",
   "execution_count": 79,
   "id": "afraid-catch",
   "metadata": {
    "execution": {
     "iopub.execute_input": "2021-06-21T15:22:04.018436Z",
     "iopub.status.busy": "2021-06-21T15:22:04.016595Z",
     "iopub.status.idle": "2021-06-21T15:22:04.063468Z",
     "shell.execute_reply": "2021-06-21T15:22:04.062835Z",
     "shell.execute_reply.started": "2021-06-21T15:14:30.710383Z"
    },
    "papermill": {
     "duration": 0.097876,
     "end_time": "2021-06-21T15:22:04.063612",
     "exception": false,
     "start_time": "2021-06-21T15:22:03.965736",
     "status": "completed"
    },
    "tags": []
   },
   "outputs": [
    {
     "name": "stdout",
     "output_type": "stream",
     "text": [
      "Confusion matrix\n",
      "\n",
      "Predicted     0     1\n",
      "Actual               \n",
      "0          1617   713\n",
      "1           435  1783\n",
      "accuracy = 0.748 \n",
      "precision = 0.752 \n",
      "recall = 0.748 \n",
      "f1 = 0.747\n"
     ]
    }
   ],
   "source": [
    "from sklearn.metrics import accuracy_score, f1_score, precision_score, recall_score\n",
    "print(\"Confusion matrix\\n\")\n",
    "print(pd.crosstab(pd.Series(y_test, name='Actual'), pd.Series(y_pred, name='Predicted')))\n",
    "def get_metrics(y_test, y_predicted):\n",
    "    accuracy = accuracy_score(y_test, y_predicted)\n",
    "    precision = precision_score(y_test, y_predicted, average='weighted')\n",
    "    recall = recall_score(y_test, y_predicted, average='weighted')\n",
    "    f1 = f1_score(y_test, y_predicted, average='weighted')\n",
    "    return accuracy, precision, recall, f1\n",
    "accuracy, precision, recall, f1 = get_metrics(y_test, y_pred)\n",
    "print(\"accuracy = %.3f \\nprecision = %.3f \\nrecall = %.3f \\nf1 = %.3f\" % (accuracy, precision, recall, f1))"
   ]
  }
 ],
 "metadata": {
  "kernelspec": {
   "display_name": "Python 3 (ipykernel)",
   "language": "python",
   "name": "python3"
  },
  "language_info": {
   "codemirror_mode": {
    "name": "ipython",
    "version": 3
   },
   "file_extension": ".py",
   "mimetype": "text/x-python",
   "name": "python",
   "nbconvert_exporter": "python",
   "pygments_lexer": "ipython3",
   "version": "3.9.7"
  },
  "papermill": {
   "default_parameters": {},
   "duration": 36.047408,
   "end_time": "2021-06-21T15:22:07.336277",
   "environment_variables": {},
   "exception": null,
   "input_path": "__notebook__.ipynb",
   "output_path": "__notebook__.ipynb",
   "parameters": {},
   "start_time": "2021-06-21T15:21:31.288869",
   "version": "2.3.3"
  }
 },
 "nbformat": 4,
 "nbformat_minor": 5
}
